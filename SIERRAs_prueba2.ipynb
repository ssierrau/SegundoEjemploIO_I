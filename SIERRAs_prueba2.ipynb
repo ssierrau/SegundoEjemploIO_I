{
  "nbformat": 4,
  "nbformat_minor": 0,
  "metadata": {
    "colab": {
      "provenance": [],
      "authorship_tag": "ABX9TyNWIsN/mdH6i6wm0leL0urR",
      "include_colab_link": true
    },
    "kernelspec": {
      "name": "python3",
      "display_name": "Python 3"
    },
    "language_info": {
      "name": "python"
    }
  },
  "cells": [
    {
      "cell_type": "markdown",
      "metadata": {
        "id": "view-in-github",
        "colab_type": "text"
      },
      "source": [
        "<a href=\"https://colab.research.google.com/github/ssierrau/SegundoEjemploIO_I/blob/main/SIERRAs_prueba2.ipynb\" target=\"_parent\"><img src=\"https://colab.research.google.com/assets/colab-badge.svg\" alt=\"Open In Colab\"/></a>"
      ]
    },
    {
      "cell_type": "markdown",
      "source": [
        "#Primer ejercicio\n",
        "\n",
        "## Esto es un subtitulo\n",
        "\n",
        "Esto es un texto normal"
      ],
      "metadata": {
        "id": "WVQOaYpx3qDB"
      }
    },
    {
      "cell_type": "code",
      "execution_count": null,
      "metadata": {
        "colab": {
          "base_uri": "https://localhost:8080/"
        },
        "id": "NsRG2lgA2WPB",
        "outputId": "eb00b7eb-20d5-456c-d5ca-5e24ad7eeec6"
      },
      "outputs": [
        {
          "output_type": "stream",
          "name": "stdout",
          "text": [
            "Buenos dìas mundo\n"
          ]
        }
      ],
      "source": [
        "print(\"Buenos díasos dìas mundo\")"
      ]
    },
    {
      "cell_type": "markdown",
      "source": [
        "#Segundo ejercicio"
      ],
      "metadata": {
        "id": "t1j81C9I4Z4I"
      }
    },
    {
      "cell_type": "code",
      "source": [
        "print(\"Buenos dìas, Sara\")"
      ],
      "metadata": {
        "colab": {
          "base_uri": "https://localhost:8080/"
        },
        "id": "h7wag9Xd4YfI",
        "outputId": "4c9a62ce-01a9-419e-9755-1d072bc05c01"
      },
      "execution_count": null,
      "outputs": [
        {
          "output_type": "stream",
          "name": "stdout",
          "text": [
            "Buenos dìas, Sara\n"
          ]
        }
      ]
    }
  ]
}